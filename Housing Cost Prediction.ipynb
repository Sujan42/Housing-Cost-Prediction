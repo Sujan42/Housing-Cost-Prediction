{
 "cells": [
  {
   "cell_type": "markdown",
   "id": "6a7297cc",
   "metadata": {},
   "source": [
    "# Housing Cost Prediction using Sklearn"
   ]
  },
  {
   "cell_type": "code",
   "execution_count": 1,
   "id": "de0ce887",
   "metadata": {},
   "outputs": [],
   "source": [
    "# lets import all the respective nessary libraries\n",
    "import pandas as pd\n",
    "import matplotlib.pyplot as plt\n",
    "import numpy as np\n",
    "from sklearn.linear_model import LinearRegression\n",
    "import scipy as sc"
   ]
  },
  {
   "cell_type": "code",
   "execution_count": 5,
   "id": "db20f57a",
   "metadata": {},
   "outputs": [],
   "source": [
    "# Lets use pandas to read BostonHousing.csv file\n",
    "read_data = pd.read_csv(\"BostonHousing.csv\")\n",
    "\n",
    "#lets convert the read data into a DataFrame\n",
    "df = pd.DataFrame(read_data)"
   ]
  },
  {
   "cell_type": "code",
   "execution_count": 41,
   "id": "80f40442",
   "metadata": {},
   "outputs": [
    {
     "data": {
      "text/html": [
       "<div>\n",
       "<style scoped>\n",
       "    .dataframe tbody tr th:only-of-type {\n",
       "        vertical-align: middle;\n",
       "    }\n",
       "\n",
       "    .dataframe tbody tr th {\n",
       "        vertical-align: top;\n",
       "    }\n",
       "\n",
       "    .dataframe thead th {\n",
       "        text-align: right;\n",
       "    }\n",
       "</style>\n",
       "<table border=\"1\" class=\"dataframe\">\n",
       "  <thead>\n",
       "    <tr style=\"text-align: right;\">\n",
       "      <th></th>\n",
       "      <th>crim</th>\n",
       "      <th>zn</th>\n",
       "      <th>indus</th>\n",
       "      <th>chas</th>\n",
       "      <th>nox</th>\n",
       "      <th>rm</th>\n",
       "      <th>age</th>\n",
       "      <th>dis</th>\n",
       "      <th>rad</th>\n",
       "      <th>tax</th>\n",
       "      <th>ptratio</th>\n",
       "      <th>b</th>\n",
       "      <th>lstat</th>\n",
       "      <th>medv</th>\n",
       "    </tr>\n",
       "  </thead>\n",
       "  <tbody>\n",
       "    <tr>\n",
       "      <th>0</th>\n",
       "      <td>0.00632</td>\n",
       "      <td>18.0</td>\n",
       "      <td>2.31</td>\n",
       "      <td>0</td>\n",
       "      <td>0.538</td>\n",
       "      <td>6.575</td>\n",
       "      <td>65.2</td>\n",
       "      <td>4.0900</td>\n",
       "      <td>1</td>\n",
       "      <td>296</td>\n",
       "      <td>15.3</td>\n",
       "      <td>396.90</td>\n",
       "      <td>4.98</td>\n",
       "      <td>24.0</td>\n",
       "    </tr>\n",
       "    <tr>\n",
       "      <th>1</th>\n",
       "      <td>0.02731</td>\n",
       "      <td>0.0</td>\n",
       "      <td>7.07</td>\n",
       "      <td>0</td>\n",
       "      <td>0.469</td>\n",
       "      <td>6.421</td>\n",
       "      <td>78.9</td>\n",
       "      <td>4.9671</td>\n",
       "      <td>2</td>\n",
       "      <td>242</td>\n",
       "      <td>17.8</td>\n",
       "      <td>396.90</td>\n",
       "      <td>9.14</td>\n",
       "      <td>21.6</td>\n",
       "    </tr>\n",
       "    <tr>\n",
       "      <th>2</th>\n",
       "      <td>0.02729</td>\n",
       "      <td>0.0</td>\n",
       "      <td>7.07</td>\n",
       "      <td>0</td>\n",
       "      <td>0.469</td>\n",
       "      <td>7.185</td>\n",
       "      <td>61.1</td>\n",
       "      <td>4.9671</td>\n",
       "      <td>2</td>\n",
       "      <td>242</td>\n",
       "      <td>17.8</td>\n",
       "      <td>392.83</td>\n",
       "      <td>4.03</td>\n",
       "      <td>34.7</td>\n",
       "    </tr>\n",
       "    <tr>\n",
       "      <th>3</th>\n",
       "      <td>0.03237</td>\n",
       "      <td>0.0</td>\n",
       "      <td>2.18</td>\n",
       "      <td>0</td>\n",
       "      <td>0.458</td>\n",
       "      <td>6.998</td>\n",
       "      <td>45.8</td>\n",
       "      <td>6.0622</td>\n",
       "      <td>3</td>\n",
       "      <td>222</td>\n",
       "      <td>18.7</td>\n",
       "      <td>394.63</td>\n",
       "      <td>2.94</td>\n",
       "      <td>33.4</td>\n",
       "    </tr>\n",
       "    <tr>\n",
       "      <th>4</th>\n",
       "      <td>0.06905</td>\n",
       "      <td>0.0</td>\n",
       "      <td>2.18</td>\n",
       "      <td>0</td>\n",
       "      <td>0.458</td>\n",
       "      <td>7.147</td>\n",
       "      <td>54.2</td>\n",
       "      <td>6.0622</td>\n",
       "      <td>3</td>\n",
       "      <td>222</td>\n",
       "      <td>18.7</td>\n",
       "      <td>396.90</td>\n",
       "      <td>5.33</td>\n",
       "      <td>36.2</td>\n",
       "    </tr>\n",
       "  </tbody>\n",
       "</table>\n",
       "</div>"
      ],
      "text/plain": [
       "      crim    zn  indus  chas    nox     rm   age     dis  rad  tax  ptratio  \\\n",
       "0  0.00632  18.0   2.31     0  0.538  6.575  65.2  4.0900    1  296     15.3   \n",
       "1  0.02731   0.0   7.07     0  0.469  6.421  78.9  4.9671    2  242     17.8   \n",
       "2  0.02729   0.0   7.07     0  0.469  7.185  61.1  4.9671    2  242     17.8   \n",
       "3  0.03237   0.0   2.18     0  0.458  6.998  45.8  6.0622    3  222     18.7   \n",
       "4  0.06905   0.0   2.18     0  0.458  7.147  54.2  6.0622    3  222     18.7   \n",
       "\n",
       "        b  lstat  medv  \n",
       "0  396.90   4.98  24.0  \n",
       "1  396.90   9.14  21.6  \n",
       "2  392.83   4.03  34.7  \n",
       "3  394.63   2.94  33.4  \n",
       "4  396.90   5.33  36.2  "
      ]
     },
     "execution_count": 41,
     "metadata": {},
     "output_type": "execute_result"
    }
   ],
   "source": [
    "# Lets print first 5 rows\n",
    "df.head()"
   ]
  },
  {
   "cell_type": "code",
   "execution_count": 42,
   "id": "3fbcf0c2",
   "metadata": {},
   "outputs": [
    {
     "data": {
      "text/plain": [
       "['crim',\n",
       " 'zn',\n",
       " 'indus',\n",
       " 'chas',\n",
       " 'nox',\n",
       " 'rm',\n",
       " 'age',\n",
       " 'dis',\n",
       " 'rad',\n",
       " 'tax',\n",
       " 'ptratio',\n",
       " 'b',\n",
       " 'lstat',\n",
       " 'medv']"
      ]
     },
     "execution_count": 42,
     "metadata": {},
     "output_type": "execute_result"
    }
   ],
   "source": [
    "list(df.columns)"
   ]
  },
  {
   "cell_type": "code",
   "execution_count": 57,
   "id": "22120644",
   "metadata": {},
   "outputs": [],
   "source": [
    "# Here, the final column medv is the median price of a house in boston per $1,000\n",
    "# Since there are many variables, we will use all the columns except medv as features, and medv as response\n",
    "columns = df.columns.drop('medv')  # Dropping medv column, as it is used as response and not as features\n",
    "X = df[columns]\n",
    "y = df.medv"
   ]
  },
  {
   "cell_type": "code",
   "execution_count": 55,
   "id": "b2d1a3ae",
   "metadata": {
    "scrolled": true
   },
   "outputs": [
    {
     "name": "stdout",
     "output_type": "stream",
     "text": [
      "(506, 13)\n",
      "(506,)\n"
     ]
    }
   ],
   "source": [
    "print(X.shape)\n",
    "print(y.shape)"
   ]
  },
  {
   "cell_type": "markdown",
   "id": "598acbb9",
   "metadata": {},
   "source": [
    "# Using Train-Test-Split and Splitting x and y into training and testing sets"
   ]
  },
  {
   "cell_type": "code",
   "execution_count": 58,
   "id": "d0375ba7",
   "metadata": {},
   "outputs": [],
   "source": [
    "# Using train_test_split to split the original dataset into a testing and training data pair\n",
    "from sklearn.model_selection import train_test_split\n",
    "x_train,x_test,y_train,y_test = train_test_split(X,y,test_size = 0.4,random_state =1)"
   ]
  },
  {
   "cell_type": "code",
   "execution_count": 59,
   "id": "3a312217",
   "metadata": {},
   "outputs": [
    {
     "name": "stdout",
     "output_type": "stream",
     "text": [
      "(303, 13)\n",
      "(203, 13)\n",
      "(303,)\n",
      "(203,)\n"
     ]
    }
   ],
   "source": [
    "print(x_train.shape)\n",
    "print(x_test.shape)\n",
    "print(y_train.shape)\n",
    "print(y_test.shape)"
   ]
  },
  {
   "cell_type": "code",
   "execution_count": 60,
   "id": "308f1ab2",
   "metadata": {},
   "outputs": [
    {
     "data": {
      "text/plain": [
       "LinearRegression()"
      ]
     },
     "execution_count": 60,
     "metadata": {},
     "output_type": "execute_result"
    }
   ],
   "source": [
    "lin_reg = LinearRegression()\n",
    "lin_reg.fit(X,y)"
   ]
  },
  {
   "cell_type": "code",
   "execution_count": 61,
   "id": "ce638124",
   "metadata": {},
   "outputs": [
    {
     "name": "stdout",
     "output_type": "stream",
     "text": [
      "36.45948838508987\n",
      "[-1.08011358e-01  4.64204584e-02  2.05586264e-02  2.68673382e+00\n",
      " -1.77666112e+01  3.80986521e+00  6.92224640e-04 -1.47556685e+00\n",
      "  3.06049479e-01 -1.23345939e-02 -9.52747232e-01  9.31168327e-03\n",
      " -5.24758378e-01]\n"
     ]
    }
   ],
   "source": [
    "#printing the intercepts and coefficients\n",
    "print(lin_reg.intercept_)\n",
    "print(lin_reg.coef_)"
   ]
  },
  {
   "cell_type": "code",
   "execution_count": 62,
   "id": "601a71aa",
   "metadata": {},
   "outputs": [
    {
     "name": "stdout",
     "output_type": "stream",
     "text": [
      "[('crim', -0.1080113578367963), ('zn', 0.04642045836688151), ('indus', 0.020558626367075297), ('chas', 2.6867338193448784), ('nox', -17.766611228300015), ('rm', 3.809865206809214), ('age', 0.0006922246403452178), ('dis', -1.4755668456002515), ('rad', 0.3060494789851696), ('tax', -0.012334593916574474), ('ptratio', -0.952747231707289), ('b', 0.009311683273793697), ('lstat', -0.5247583778554905)]\n"
     ]
    }
   ],
   "source": [
    "# Here, I have used zip() function to merge respective elements of two list into two tuples, and ultimately convert to a List\n",
    "zipped = list(zip(columns, lin_reg.coef_)) \n",
    "print(zipped)"
   ]
  },
  {
   "cell_type": "markdown",
   "id": "cb94841f",
   "metadata": {},
   "source": [
    "So, the final regression model is\n",
    "\n",
    "y = ((crim) * ( -0.1080113578367963))+ - - - - - - - -  + ((lstat) * (-0.5247583778554905)) + (36.45948838508987)\n",
    "\n",
    "Where, 36.45948838508987 is the y-intercept "
   ]
  },
  {
   "cell_type": "code",
   "execution_count": 67,
   "id": "7318e4d3",
   "metadata": {},
   "outputs": [
    {
     "name": "stdout",
     "output_type": "stream",
     "text": [
      "[32.70905123703113, 27.706479124564964, 18.036550883547417, 21.113385641796725, 18.22846804302668, 20.06191566189113]\n"
     ]
    }
   ],
   "source": [
    "# Now, lets make our prediciton in the off-sample data. i.e x_test\n",
    "y_pred = lin_reg.predict(x_test)\n",
    "\n",
    "# Printing the first 6 predictions\n",
    "print(list(y_pred)[0:6])"
   ]
  },
  {
   "cell_type": "code",
   "execution_count": 69,
   "id": "bd6917cc",
   "metadata": {},
   "outputs": [
    {
     "name": "stdout",
     "output_type": "stream",
     "text": [
      "[28.2, 23.9, 16.6, 22.0, 20.8, 23.0]\n"
     ]
    }
   ],
   "source": [
    "# Lets print the first 6 actual responses from y_test data\n",
    "print(list(y_test)[0:6])"
   ]
  },
  {
   "cell_type": "code",
   "execution_count": 85,
   "id": "1448e0f5",
   "metadata": {},
   "outputs": [
    {
     "data": {
      "image/png": "[encoded data removed]",
      "text/plain": [
       "<Figure size 432x288 with 1 Axes>"
      ]
     },
     "metadata": {
      "needs_background": "light"
     },
     "output_type": "display_data"
    }
   ],
   "source": [
    "# Plotting Scatter graph to show the prediction\n",
    "# results - 'ytrue' value vs 'y_pred' value\n",
    "plt.scatter(y_test,y_pred,color = 'red')\n",
    "plt.title('True value v/s predicted value')\n",
    "plt.xlabel('Actual price per $1,000')\n",
    "plt.ylabel('Predicted price per $1,000')\n",
    "plt.show()"
   ]
  },
  {
   "cell_type": "markdown",
   "id": "6a0beec9",
   "metadata": {},
   "source": [
    "# Since this is a regression problem, we will be measuring errors and not Accuracy. Thus, lower the error, much better the model"
   ]
  },
  {
   "cell_type": "markdown",
   "id": "f16f85c5",
   "metadata": {},
   "source": [
    "# Lets measure MAE, MSE, and RMSE\n",
    "        - MAE = Mean Absolute Error\n",
    "        - MSE = Mean Squared Error\n",
    "        - RMSE = Root Mean Squared Error"
   ]
  },
  {
   "cell_type": "code",
   "execution_count": 76,
   "id": "b1b1f698",
   "metadata": {},
   "outputs": [
    {
     "name": "stdout",
     "output_type": "stream",
     "text": [
      "3.4138555091611384\n"
     ]
    }
   ],
   "source": [
    "# For Mean Absolute Error\n",
    "from sklearn import metrics\n",
    "print(metrics.mean_absolute_error(y_test,y_pred))"
   ]
  },
  {
   "cell_type": "code",
   "execution_count": 77,
   "id": "660f5ac2",
   "metadata": {},
   "outputs": [
    {
     "name": "stdout",
     "output_type": "stream",
     "text": [
      "23.819150741548583\n"
     ]
    }
   ],
   "source": [
    "# For MSE\n",
    "print(metrics.mean_squared_error(y_test,y_pred))"
   ]
  },
  {
   "cell_type": "code",
   "execution_count": 78,
   "id": "3162f37d",
   "metadata": {},
   "outputs": [
    {
     "name": "stdout",
     "output_type": "stream",
     "text": [
      "4.880486732032839\n"
     ]
    }
   ],
   "source": [
    "# For RMSE\n",
    "print(np.sqrt(metrics.mean_squared_error(y_test,y_pred)))"
   ]
  },
  {
   "cell_type": "markdown",
   "id": "f8a61f39",
   "metadata": {},
   "source": [
    "# Thank you\n",
    "# Completed by Sujan Neupane\n",
    "# neupanesujan420@gmail.com"
   ]
  }
 ],
 "metadata": {
  "kernelspec": {
   "display_name": "Python 3",
   "language": "python",
   "name": "python3"
  },
  "language_info": {
   "codemirror_mode": {
    "name": "ipython",
    "version": 3
   },
   "file_extension": ".py",
   "mimetype": "text/x-python",
   "name": "python",
   "nbconvert_exporter": "python",
   "pygments_lexer": "ipython3",
   "version": "3.8.8"
  }
 },
 "nbformat": 4,
 "nbformat_minor": 5
}
